{
 "cells": [
  {
   "cell_type": "code",
   "execution_count": 1,
   "id": "a9ed2615-2aa4-4396-be9b-39bbcbae04fb",
   "metadata": {},
   "outputs": [
    {
     "name": "stdout",
     "output_type": "stream",
     "text": [
      "WARNING:tensorflow:From C:\\Users\\FUJITSU\\AppData\\Roaming\\Python\\Python311\\site-packages\\keras\\src\\losses.py:2976: The name tf.losses.sparse_softmax_cross_entropy is deprecated. Please use tf.compat.v1.losses.sparse_softmax_cross_entropy instead.\n",
      "\n"
     ]
    }
   ],
   "source": [
    "import tensorflow as td\n",
    "from tensorflow import keras\n",
    "import numpy as np"
   ]
  },
  {
   "cell_type": "code",
   "execution_count": 2,
   "id": "69d2f2fd-867d-48d9-8290-3c972aea7173",
   "metadata": {},
   "outputs": [
    {
     "name": "stdout",
     "output_type": "stream",
     "text": [
      "[1, 14, 22, 16, 43, 530, 973, 1622, 1385, 65, 458, 4468, 66, 3941, 4, 173, 36, 256, 5, 25, 100, 43, 838, 112, 50, 670, 22665, 9, 35, 480, 284, 5, 150, 4, 172, 112, 167, 21631, 336, 385, 39, 4, 172, 4536, 1111, 17, 546, 38, 13, 447, 4, 192, 50, 16, 6, 147, 2025, 19, 14, 22, 4, 1920, 4613, 469, 4, 22, 71, 87, 12, 16, 43, 530, 38, 76, 15, 13, 1247, 4, 22, 17, 515, 17, 12, 16, 626, 18, 19193, 5, 62, 386, 12, 8, 316, 8, 106, 5, 4, 2223, 5244, 16, 480, 66, 3785, 33, 4, 130, 12, 16, 38, 619, 5, 25, 124, 51, 36, 135, 48, 25, 1415, 33, 6, 22, 12, 215, 28, 77, 52, 5, 14, 407, 16, 82, 10311, 8, 4, 107, 117, 5952, 15, 256, 4, 31050, 7, 3766, 5, 723, 36, 71, 43, 530, 476, 26, 400, 317, 46, 7, 4, 12118, 1029, 13, 104, 88, 4, 381, 15, 297, 98, 32, 2071, 56, 26, 141, 6, 194, 7486, 18, 4, 226, 22, 21, 134, 476, 26, 480, 5, 144, 30, 5535, 18, 51, 36, 28, 224, 92, 25, 104, 4, 226, 65, 16, 38, 1334, 88, 12, 16, 283, 5, 16, 4472, 113, 103, 32, 15, 16, 5345, 19, 178, 32]\n"
     ]
    }
   ],
   "source": [
    "\n",
    "data = keras.datasets.imdb\n",
    "(train_data, train_labels),(test_data, test_labels) = data.load_data(num_words=88000)\n",
    "print(train_data[0])"
   ]
  },
  {
   "cell_type": "code",
   "execution_count": 3,
   "id": "e6873b15-36df-402e-949e-78133cb592f6",
   "metadata": {},
   "outputs": [
    {
     "name": "stdout",
     "output_type": "stream",
     "text": [
      "<START> please give this one a miss br br kristy swanson and the rest of the cast rendered terrible performances the show is flat flat flat br br i don't know how michael madison could have allowed this one on his plate he almost seemed to know this wasn't going to work out and his performance was quite lacklustre so all you madison fans give this a miss\n"
     ]
    }
   ],
   "source": [
    "word_index = data.get_word_index()\n",
    "\n",
    "word_index = {k:(v+3) for k,v in word_index.items()}\n",
    "word_index[\"<PAD>\"] = 0\n",
    "word_index[\"<START>\"] = 1\n",
    "word_index[\"<UNK>\"] = 2  # unknown\n",
    "word_index[\"<UNUSED>\"] = 3\n",
    "\n",
    "reverse_word_index = dict([(value, key) for (key, value) in word_index.items()])\n",
    "\n",
    "def decode_review(text):\n",
    "\treturn \" \".join([reverse_word_index.get(i, \"?\") for i in text])\n",
    "print(decode_review(test_data[0]))"
   ]
  },
  {
   "cell_type": "code",
   "execution_count": 4,
   "id": "1ce47134-9756-416a-b2fb-1674b636ae51",
   "metadata": {},
   "outputs": [
    {
     "name": "stdout",
     "output_type": "stream",
     "text": [
      "68 218\n"
     ]
    }
   ],
   "source": [
    "print(len(test_data[0]),len(train_data[0]))"
   ]
  },
  {
   "cell_type": "code",
   "execution_count": 5,
   "id": "28c7551f-15d9-420f-818d-4c4e746454b9",
   "metadata": {},
   "outputs": [
    {
     "name": "stdout",
     "output_type": "stream",
     "text": [
      "250 250\n"
     ]
    }
   ],
   "source": [
    "\n",
    "train_data = keras.preprocessing.sequence.pad_sequences(train_data, value=word_index[\"<PAD>\"], padding=\"post\", maxlen=250)\n",
    "test_data = keras.preprocessing.sequence.pad_sequences(test_data, value=word_index[\"<PAD>\"], padding=\"post\", maxlen=250)\n",
    "print(len(test_data[0]),len(train_data[0]))"
   ]
  },
  {
   "cell_type": "code",
   "execution_count": 6,
   "id": "b384eed3-ad22-4c7c-87a6-9215e38412fa",
   "metadata": {},
   "outputs": [
    {
     "name": "stdout",
     "output_type": "stream",
     "text": [
      "250 250\n"
     ]
    }
   ],
   "source": [
    "print(len(test_data[0]),len(train_data[1]))"
   ]
  },
  {
   "cell_type": "code",
   "execution_count": 7,
   "id": "a01c2b66-7a07-4f38-aba6-3bb154024a4d",
   "metadata": {},
   "outputs": [
    {
     "name": "stdout",
     "output_type": "stream",
     "text": [
      "WARNING:tensorflow:From C:\\Users\\FUJITSU\\AppData\\Roaming\\Python\\Python311\\site-packages\\keras\\src\\backend.py:873: The name tf.get_default_graph is deprecated. Please use tf.compat.v1.get_default_graph instead.\n",
      "\n",
      "Model: \"sequential\"\n",
      "_________________________________________________________________\n",
      " Layer (type)                Output Shape              Param #   \n",
      "=================================================================\n",
      " embedding (Embedding)       (None, None, 16)          1408000   \n",
      "                                                                 \n",
      " global_average_pooling1d (  (None, 16)                0         \n",
      " GlobalAveragePooling1D)                                         \n",
      "                                                                 \n",
      " dense (Dense)               (None, 16)                272       \n",
      "                                                                 \n",
      " dense_1 (Dense)             (None, 1)                 17        \n",
      "                                                                 \n",
      "=================================================================\n",
      "Total params: 1408289 (5.37 MB)\n",
      "Trainable params: 1408289 (5.37 MB)\n",
      "Non-trainable params: 0 (0.00 Byte)\n",
      "_________________________________________________________________\n"
     ]
    }
   ],
   "source": [
    "'''define the model'''\n",
    "model = keras.Sequential()\n",
    "model.add(keras.layers.Embedding(88000, 16))\n",
    "model.add(keras.layers.GlobalAveragePooling1D())\n",
    "model.add(keras.layers.Dense(16, activation=\"relu\"))\n",
    "model.add(keras.layers.Dense(1, activation=\"sigmoid\"))\n",
    "\n",
    "model.summary()  # prints a summary of the model"
   ]
  },
  {
   "cell_type": "code",
   "execution_count": 8,
   "id": "dae0f519-bfec-4b14-8d77-b7325f5b6fdc",
   "metadata": {},
   "outputs": [
    {
     "name": "stdout",
     "output_type": "stream",
     "text": [
      "WARNING:tensorflow:From C:\\Users\\FUJITSU\\AppData\\Roaming\\Python\\Python311\\site-packages\\keras\\src\\optimizers\\__init__.py:309: The name tf.train.Optimizer is deprecated. Please use tf.compat.v1.train.Optimizer instead.\n",
      "\n"
     ]
    }
   ],
   "source": [
    "model.compile(optimizer='adam', loss='binary_crossentropy', metrics=['accuracy'])\n",
    "\n",
    "x_val = train_data[:10000]\n",
    "x_train = train_data[10000:]\n",
    "\n",
    "y_val = train_labels[:10000]\n",
    "y_train = train_labels[10000:]"
   ]
  },
  {
   "cell_type": "code",
   "execution_count": 9,
   "id": "7c0e0312-0e63-4bce-b7a8-d57b6be707eb",
   "metadata": {},
   "outputs": [
    {
     "name": "stdout",
     "output_type": "stream",
     "text": [
      "Epoch 1/40\n",
      "WARNING:tensorflow:From C:\\Users\\FUJITSU\\AppData\\Roaming\\Python\\Python311\\site-packages\\keras\\src\\utils\\tf_utils.py:492: The name tf.ragged.RaggedTensorValue is deprecated. Please use tf.compat.v1.ragged.RaggedTensorValue instead.\n",
      "\n",
      "WARNING:tensorflow:From C:\\Users\\FUJITSU\\AppData\\Roaming\\Python\\Python311\\site-packages\\keras\\src\\engine\\base_layer_utils.py:384: The name tf.executing_eagerly_outside_functions is deprecated. Please use tf.compat.v1.executing_eagerly_outside_functions instead.\n",
      "\n",
      "30/30 [==============================] - 7s 88ms/step - loss: 0.6923 - accuracy: 0.5197 - val_loss: 0.6905 - val_accuracy: 0.5899\n",
      "Epoch 2/40\n",
      "30/30 [==============================] - 2s 52ms/step - loss: 0.6866 - accuracy: 0.6701 - val_loss: 0.6816 - val_accuracy: 0.7218\n",
      "Epoch 3/40\n",
      "30/30 [==============================] - 2s 70ms/step - loss: 0.6720 - accuracy: 0.7541 - val_loss: 0.6638 - val_accuracy: 0.7638\n",
      "Epoch 4/40\n",
      "30/30 [==============================] - 2s 55ms/step - loss: 0.6456 - accuracy: 0.7962 - val_loss: 0.6346 - val_accuracy: 0.7877\n",
      "Epoch 5/40\n",
      "30/30 [==============================] - 2s 54ms/step - loss: 0.6063 - accuracy: 0.8171 - val_loss: 0.5952 - val_accuracy: 0.7987\n",
      "Epoch 6/40\n",
      "30/30 [==============================] - 2s 55ms/step - loss: 0.5562 - accuracy: 0.8308 - val_loss: 0.5489 - val_accuracy: 0.8144\n",
      "Epoch 7/40\n",
      "30/30 [==============================] - 2s 56ms/step - loss: 0.5006 - accuracy: 0.8502 - val_loss: 0.5018 - val_accuracy: 0.8248\n",
      "Epoch 8/40\n",
      "30/30 [==============================] - 2s 56ms/step - loss: 0.4458 - accuracy: 0.8673 - val_loss: 0.4584 - val_accuracy: 0.8396\n",
      "Epoch 9/40\n",
      "30/30 [==============================] - 2s 53ms/step - loss: 0.3963 - accuracy: 0.8846 - val_loss: 0.4212 - val_accuracy: 0.8490\n",
      "Epoch 10/40\n",
      "30/30 [==============================] - 2s 60ms/step - loss: 0.3533 - accuracy: 0.8969 - val_loss: 0.3911 - val_accuracy: 0.8596\n",
      "Epoch 11/40\n",
      "30/30 [==============================] - 2s 61ms/step - loss: 0.3170 - accuracy: 0.9055 - val_loss: 0.3674 - val_accuracy: 0.8644\n",
      "Epoch 12/40\n",
      "30/30 [==============================] - 2s 62ms/step - loss: 0.2858 - accuracy: 0.9149 - val_loss: 0.3478 - val_accuracy: 0.8699\n",
      "Epoch 13/40\n",
      "30/30 [==============================] - 2s 52ms/step - loss: 0.2598 - accuracy: 0.9219 - val_loss: 0.3324 - val_accuracy: 0.8737\n",
      "Epoch 14/40\n",
      "30/30 [==============================] - 2s 59ms/step - loss: 0.2367 - accuracy: 0.9289 - val_loss: 0.3204 - val_accuracy: 0.8776\n",
      "Epoch 15/40\n",
      "30/30 [==============================] - 2s 56ms/step - loss: 0.2165 - accuracy: 0.9360 - val_loss: 0.3100 - val_accuracy: 0.8797\n",
      "Epoch 16/40\n",
      "30/30 [==============================] - 2s 53ms/step - loss: 0.1986 - accuracy: 0.9420 - val_loss: 0.3017 - val_accuracy: 0.8822\n",
      "Epoch 17/40\n",
      "30/30 [==============================] - 2s 57ms/step - loss: 0.1829 - accuracy: 0.9477 - val_loss: 0.2957 - val_accuracy: 0.8847\n",
      "Epoch 18/40\n",
      "30/30 [==============================] - 1s 49ms/step - loss: 0.1681 - accuracy: 0.9528 - val_loss: 0.2899 - val_accuracy: 0.8848\n",
      "Epoch 19/40\n",
      "30/30 [==============================] - 1s 49ms/step - loss: 0.1552 - accuracy: 0.9577 - val_loss: 0.2858 - val_accuracy: 0.8870\n",
      "Epoch 20/40\n",
      "30/30 [==============================] - 1s 46ms/step - loss: 0.1432 - accuracy: 0.9625 - val_loss: 0.2839 - val_accuracy: 0.8872\n",
      "Epoch 21/40\n",
      "30/30 [==============================] - 1s 46ms/step - loss: 0.1328 - accuracy: 0.9661 - val_loss: 0.2804 - val_accuracy: 0.8875\n",
      "Epoch 22/40\n",
      "30/30 [==============================] - 1s 44ms/step - loss: 0.1228 - accuracy: 0.9701 - val_loss: 0.2787 - val_accuracy: 0.8872\n",
      "Epoch 23/40\n",
      "30/30 [==============================] - 1s 45ms/step - loss: 0.1141 - accuracy: 0.9732 - val_loss: 0.2769 - val_accuracy: 0.8882\n",
      "Epoch 24/40\n",
      "30/30 [==============================] - 1s 42ms/step - loss: 0.1054 - accuracy: 0.9766 - val_loss: 0.2760 - val_accuracy: 0.8891\n",
      "Epoch 25/40\n",
      "30/30 [==============================] - 2s 55ms/step - loss: 0.0978 - accuracy: 0.9790 - val_loss: 0.2760 - val_accuracy: 0.8893\n",
      "Epoch 26/40\n",
      "30/30 [==============================] - 2s 51ms/step - loss: 0.0910 - accuracy: 0.9811 - val_loss: 0.2765 - val_accuracy: 0.8893\n",
      "Epoch 27/40\n",
      "30/30 [==============================] - 2s 51ms/step - loss: 0.0846 - accuracy: 0.9829 - val_loss: 0.2771 - val_accuracy: 0.8888\n",
      "Epoch 28/40\n",
      "30/30 [==============================] - 2s 71ms/step - loss: 0.0786 - accuracy: 0.9849 - val_loss: 0.2770 - val_accuracy: 0.8895\n",
      "Epoch 29/40\n",
      "30/30 [==============================] - 2s 62ms/step - loss: 0.0733 - accuracy: 0.9866 - val_loss: 0.2782 - val_accuracy: 0.8891\n",
      "Epoch 30/40\n",
      "30/30 [==============================] - 2s 52ms/step - loss: 0.0683 - accuracy: 0.9873 - val_loss: 0.2794 - val_accuracy: 0.8900\n",
      "Epoch 31/40\n",
      "30/30 [==============================] - 1s 48ms/step - loss: 0.0638 - accuracy: 0.9882 - val_loss: 0.2830 - val_accuracy: 0.8877\n",
      "Epoch 32/40\n",
      "30/30 [==============================] - 1s 48ms/step - loss: 0.0597 - accuracy: 0.9899 - val_loss: 0.2835 - val_accuracy: 0.8888\n",
      "Epoch 33/40\n",
      "30/30 [==============================] - 2s 52ms/step - loss: 0.0558 - accuracy: 0.9912 - val_loss: 0.2843 - val_accuracy: 0.8892\n",
      "Epoch 34/40\n",
      "30/30 [==============================] - 2s 56ms/step - loss: 0.0520 - accuracy: 0.9917 - val_loss: 0.2872 - val_accuracy: 0.8889\n",
      "Epoch 35/40\n",
      "30/30 [==============================] - 2s 63ms/step - loss: 0.0487 - accuracy: 0.9923 - val_loss: 0.2887 - val_accuracy: 0.8891\n",
      "Epoch 36/40\n",
      "30/30 [==============================] - 2s 61ms/step - loss: 0.0456 - accuracy: 0.9931 - val_loss: 0.2910 - val_accuracy: 0.8891\n",
      "Epoch 37/40\n",
      "30/30 [==============================] - 2s 55ms/step - loss: 0.0428 - accuracy: 0.9937 - val_loss: 0.2934 - val_accuracy: 0.8883\n",
      "Epoch 38/40\n",
      "30/30 [==============================] - 1s 42ms/step - loss: 0.0405 - accuracy: 0.9941 - val_loss: 0.2984 - val_accuracy: 0.8866\n",
      "Epoch 39/40\n",
      "30/30 [==============================] - 1s 44ms/step - loss: 0.0377 - accuracy: 0.9951 - val_loss: 0.2989 - val_accuracy: 0.8880\n",
      "Epoch 40/40\n",
      "30/30 [==============================] - 1s 46ms/step - loss: 0.0359 - accuracy: 0.9951 - val_loss: 0.3012 - val_accuracy: 0.8874\n"
     ]
    }
   ],
   "source": [
    "\n",
    "fitModel = model.fit(x_train, y_train, epochs=40, batch_size=512, validation_data=(x_val, y_val), verbose=1)"
   ]
  },
  {
   "cell_type": "code",
   "execution_count": 10,
   "id": "5d8cd1af-6633-40bc-93a6-0f14389b2cda",
   "metadata": {},
   "outputs": [
    {
     "name": "stdout",
     "output_type": "stream",
     "text": [
      "782/782 [==============================] - 2s 3ms/step - loss: 0.3370 - accuracy: 0.8712\n",
      "[0.33701446652412415, 0.8711599707603455]\n"
     ]
    }
   ],
   "source": [
    "'''Testing the Model'''\n",
    "results = model.evaluate(test_data, test_labels)\n",
    "print(results)"
   ]
  },
  {
   "cell_type": "code",
   "execution_count": 11,
   "id": "264da0f1-77d7-4cad-a524-af19182b0da9",
   "metadata": {},
   "outputs": [
    {
     "name": "stdout",
     "output_type": "stream",
     "text": [
      "1/1 [==============================] - 0s 317ms/step\n",
      "Review : \n",
      "<START> please give this one a miss br br kristy swanson and the rest of the cast rendered terrible performances the show is flat flat flat br br i don't know how michael madison could have allowed this one on his plate he almost seemed to know this wasn't going to work out and his performance was quite lacklustre so all you madison fans give this a miss <PAD> <PAD> <PAD> <PAD> <PAD> <PAD> <PAD> <PAD> <PAD> <PAD> <PAD> <PAD> <PAD> <PAD> <PAD> <PAD> <PAD> <PAD> <PAD> <PAD> <PAD> <PAD> <PAD> <PAD> <PAD> <PAD> <PAD> <PAD> <PAD> <PAD> <PAD> <PAD> <PAD> <PAD> <PAD> <PAD> <PAD> <PAD> <PAD> <PAD> <PAD> <PAD> <PAD> <PAD> <PAD> <PAD> <PAD> <PAD> <PAD> <PAD> <PAD> <PAD> <PAD> <PAD> <PAD> <PAD> <PAD> <PAD> <PAD> <PAD> <PAD> <PAD> <PAD> <PAD> <PAD> <PAD> <PAD> <PAD> <PAD> <PAD> <PAD> <PAD> <PAD> <PAD> <PAD> <PAD> <PAD> <PAD> <PAD> <PAD> <PAD> <PAD> <PAD> <PAD> <PAD> <PAD> <PAD> <PAD> <PAD> <PAD> <PAD> <PAD> <PAD> <PAD> <PAD> <PAD> <PAD> <PAD> <PAD> <PAD> <PAD> <PAD> <PAD> <PAD> <PAD> <PAD> <PAD> <PAD> <PAD> <PAD> <PAD> <PAD> <PAD> <PAD> <PAD> <PAD> <PAD> <PAD> <PAD> <PAD> <PAD> <PAD> <PAD> <PAD> <PAD> <PAD> <PAD> <PAD> <PAD> <PAD> <PAD> <PAD> <PAD> <PAD> <PAD> <PAD> <PAD> <PAD> <PAD> <PAD> <PAD> <PAD> <PAD> <PAD> <PAD> <PAD> <PAD> <PAD> <PAD> <PAD> <PAD> <PAD> <PAD> <PAD> <PAD> <PAD> <PAD> <PAD> <PAD> <PAD> <PAD> <PAD> <PAD> <PAD> <PAD> <PAD> <PAD> <PAD> <PAD> <PAD> <PAD> <PAD> <PAD> <PAD> <PAD> <PAD> <PAD> <PAD> <PAD> <PAD> <PAD> <PAD>\n",
      "Prediction : \n",
      "[0.07550974]\n",
      "Actual : \n",
      "0\n"
     ]
    }
   ],
   "source": [
    "test_review = test_data[0]\n",
    "# Ajouter une dimension pour indiquer le lot (batch) de séquences\n",
    "test_review = np.expand_dims(test_review, axis=0)\n",
    "predict = model.predict(test_review)\n",
    "print('Review : ')\n",
    "print(decode_review(test_data[0]))\n",
    "print('Prediction : ')\n",
    "print(str(predict[0]))\n",
    "print('Actual : ')\n",
    "print(str(test_labels[0]))\n"
   ]
  },
  {
   "cell_type": "code",
   "execution_count": 12,
   "id": "4873b065-39d9-4ea3-8c77-09e1b827ac11",
   "metadata": {},
   "outputs": [
    {
     "name": "stderr",
     "output_type": "stream",
     "text": [
      "C:\\Users\\FUJITSU\\AppData\\Roaming\\Python\\Python311\\site-packages\\keras\\src\\engine\\training.py:3103: UserWarning: You are saving your model as an HDF5 file via `model.save()`. This file format is considered legacy. We recommend using instead the native Keras format, e.g. `model.save('my_model.keras')`.\n",
      "  saving_api.save_model(\n"
     ]
    }
   ],
   "source": [
    "model.save(\"model.h5\")  # name it whatever you want but end with .h5\n",
    "\n",
    "model = keras.models.load_model(\"model.h5\")"
   ]
  },
  {
   "cell_type": "code",
   "execution_count": null,
   "id": "b36037f7-6fa7-4029-91b9-c74cad53247b",
   "metadata": {},
   "outputs": [],
   "source": [
    "def review_encode(s):\n",
    "\tencoded = [1]\n",
    "\n",
    "\tfor word in s:\n",
    "\t\tif word.lower() in word_index:\n",
    "\t\t\tencoded.append(word_index[word.lower()])\n",
    "\t\telse:\n",
    "\t\t\tencoded.append(2)\n",
    "\n",
    "\treturn encoded\n",
    "\n",
    "\n",
    "with open(\"test.txt\", encoding=\"utf-8\") as f:\n",
    "\tfor line in f.readlines():\n",
    "\t\tnline = line.replace(\",\", \"\").replace(\".\", \"\").replace(\"(\", \"\").replace(\")\", \"\").replace(\":\", \"\").replace(\"\\\"\",\"\").strip().split(\" \")\n",
    "\t\tencode = review_encode(nline)\n",
    "\t\tencode = keras.preprocessing.sequence.pad_sequences([encode], value=word_index[\"<PAD>\"], padding=\"post\", maxlen=250) # make the data 250 words long\n",
    "\t\tpredict = model.predict(encode)\n",
    "\t\tprint(line)\n",
    "\t\tprint(encode)\n",
    "\t\tprint(predict[0])\n",
    "\n"
   ]
  },
  {
   "cell_type": "code",
   "execution_count": null,
   "id": "c4c86111-807f-4fc8-9f4d-0eea26201a06",
   "metadata": {},
   "outputs": [],
   "source": []
  },
  {
   "cell_type": "code",
   "execution_count": null,
   "id": "e86ce3b8-9ae8-405a-bfe2-e340c9f90c81",
   "metadata": {},
   "outputs": [],
   "source": []
  }
 ],
 "metadata": {
  "kernelspec": {
   "display_name": "Python 3 (ipykernel)",
   "language": "python",
   "name": "python3"
  },
  "language_info": {
   "codemirror_mode": {
    "name": "ipython",
    "version": 3
   },
   "file_extension": ".py",
   "mimetype": "text/x-python",
   "name": "python",
   "nbconvert_exporter": "python",
   "pygments_lexer": "ipython3",
   "version": "3.11.3"
  }
 },
 "nbformat": 4,
 "nbformat_minor": 5
}
